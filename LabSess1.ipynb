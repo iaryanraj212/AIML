{
  "nbformat": 4,
  "nbformat_minor": 0,
  "metadata": {
    "colab": {
      "provenance": [],
      "authorship_tag": "ABX9TyM8wZ4fp3xt7gyMKJEHe7G/",
      "include_colab_link": true
    },
    "kernelspec": {
      "name": "python3",
      "display_name": "Python 3"
    },
    "language_info": {
      "name": "python"
    }
  },
  "cells": [
    {
      "cell_type": "markdown",
      "metadata": {
        "id": "view-in-github",
        "colab_type": "text"
      },
      "source": [
        "<a href=\"https://colab.research.google.com/github/iaryanraj212/AIML/blob/main/LabSess1.ipynb\" target=\"_parent\"><img src=\"https://colab.research.google.com/assets/colab-badge.svg\" alt=\"Open In Colab\"/></a>"
      ]
    },
    {
      "cell_type": "code",
      "execution_count": 1,
      "metadata": {
        "colab": {
          "base_uri": "https://localhost:8080/"
        },
        "id": "8UCE7aQZmkvn",
        "outputId": "c047f8e6-866d-409c-cf87-19e6572c5974"
      },
      "outputs": [
        {
          "output_type": "stream",
          "name": "stdout",
          "text": [
            "Enter any string: Sah\n",
            "Sah\n",
            "Number of vowels :  1\n",
            "Number of consonants :  2\n"
          ]
        }
      ],
      "source": [
        "def count_vowels_constants(input_string):\n",
        "  vowel_count = 0\n",
        "  constant_count = 0\n",
        "  vowel_string = \"aeiouAEIOU\"\n",
        "  for ch in input_string:\n",
        "    if ch in vowel_string:\n",
        "      vowel_count += 1\n",
        "    else:\n",
        "      constant_count += 1\n",
        "  return vowel_count,constant_count\n",
        "\n",
        "\n",
        "input_string = input(\"Enter any string: \")\n",
        "print(input_string)\n",
        "vowel,consonant = count_vowels_constants(input_string)\n",
        "print(\"Number of vowels : \",vowel)\n",
        "print(\"Number of consonants : \",consonant)\n"
      ]
    },
    {
      "cell_type": "code",
      "source": [
        "import numpy as np\n",
        "\n",
        "def multiply_two_matrices(A,B):\n",
        "  if(len(A[0]) != len(B)):\n",
        "    print(\"Error! The given two matrices cannot be multiplied.\")\n",
        "    return None\n",
        "\n",
        "  result_row = len(A)\n",
        "  result_col = len(B[0])\n",
        "  column_A = len(B)\n",
        "\n",
        "  result = np.zeros((result_row,result_col))\n",
        "\n",
        "  for i in range(result_row):\n",
        "    for j in range(result_col):\n",
        "      for k in range(column_A):\n",
        "        result[i][j] += A[i][k] * B[k][j]\n",
        "  return result\n",
        "\n",
        "A = []\n",
        "B = []\n",
        "print(\"Input for Matrix 1:\")\n",
        "row1 = (int)(input(\"Enter the number of row for first matrix: \"))\n",
        "col1 = (int)(input(\"Enter the number of column for first matrix: \"))\n",
        "\n",
        "print(\"Enter the elements of each row in a single line(seperate each element by space):\")\n",
        "for _ in range(row1):\n",
        "  row = list(map(int,input().split()))\n",
        "  if(len(row) != col1):\n",
        "    raise ValueError(f\"Error! Number of elements should be {col1}, but is {len(row)}\")\n",
        "  A.append(row)\n",
        "\n",
        "print(\"Input for Matrix 2:\")\n",
        "row2 = (int)(input(\"Enter the number of row for second matrix: \"))\n",
        "col2 = (int)(input(\"Enter the number of column for second matrix: \"))\n",
        "\n",
        "print(\"Enter the elements of each row in a single line(seperate each element by space):\")\n",
        "for _ in range(row2):\n",
        "  row = list(map(int,input().split()))\n",
        "  if(len(row) != col2):\n",
        "    raise ValueError(f\"Error! Number of elements should be {col2}, but is {len(row)}\")\n",
        "  B.append(row)\n",
        "\n",
        "result = multiply_two_matrices(A,B)\n",
        "np.array(result)\n",
        "print(result)\n",
        "\n"
      ],
      "metadata": {
        "colab": {
          "base_uri": "https://localhost:8080/"
        },
        "id": "GprHNDPNmwRQ",
        "outputId": "c02fd10c-a5ea-4437-b9f8-9eb9be3e6533"
      },
      "execution_count": null,
      "outputs": [
        {
          "output_type": "stream",
          "name": "stdout",
          "text": [
            "Input for Matrix 1:\n"
          ]
        }
      ]
    },
    {
      "cell_type": "code",
      "source": [
        "def common_element(A,B):\n",
        "  count =0\n",
        "  for i in A:\n",
        "    if( i in B):\n",
        "      count +=1\n",
        "  return count\n",
        "\n",
        "l1 = list(map(int,input(\"Enter the elements of list1(Seperated by space): \").split()))\n",
        "l2 = list(map(int,input(\"Enter the elements of list2(Seperated by space): \").split()))\n",
        "\n",
        "print(common_element(l1,l2))"
      ],
      "metadata": {
        "id": "gOVoh86ynYTT"
      },
      "execution_count": null,
      "outputs": []
    },
    {
      "cell_type": "code",
      "source": [
        "def transpose_matrix(A):\n",
        "  result = []\n",
        "  if not A:\n",
        "    print(\"Error! Matrix is empty.\")\n",
        "    return None\n",
        "\n",
        "  row = len(A[0])\n",
        "  col = len(A)\n",
        "\n",
        "  result = [[0] * col for _ in range(row)]\n",
        "\n",
        "  for i in range(row):\n",
        "    for j in range(col):\n",
        "      result[i][j] = A[j][i]\n",
        "  return result\n",
        "\n",
        "def input_matrix():\n",
        "  row = int(input(\"Enter the number of rows: \"))\n",
        "  col = int(input(\"Enter the number of columns: \"))\n",
        "\n",
        "  A= []\n",
        "\n",
        "  print(\"Enter the elements of each row in a single line(seperate each element by space):\")\n",
        "  for _ in range(row):\n",
        "    row = list(map(int,input().split()))\n",
        "    if(len(row) != col):\n",
        "      return input_matrix()\n",
        "    A.append(row)\n",
        "  return A\n",
        "\n",
        "print(transpose_matrix(input_matrix()))\n"
      ],
      "metadata": {
        "id": "0w2vL3l5nhkB"
      },
      "execution_count": null,
      "outputs": []
    },
    {
      "cell_type": "code",
      "source": [
        "def transpose_matrix(A):\n",
        "  result = []\n",
        "  if not A:\n",
        "    print(\"Error! Matrix is empty.\")\n",
        "    return None\n",
        "\n",
        "  row = len(A[0])\n",
        "  col = len(A)\n",
        "\n",
        "  result = [[0] * col for _ in range(row)]\n",
        "\n",
        "  for i in range(row):\n",
        "    for j in range(col):\n",
        "      result[i][j] = A[j][i]\n",
        "  return result\n",
        "\n",
        "def input_matrix():\n",
        "  row = int(input(\"Enter the number of rows: \"))\n",
        "  col = int(input(\"Enter the number of columns: \"))\n",
        "\n",
        "  A= []\n",
        "\n",
        "  print(\"Enter the elements of each row in a single line(seperate each element by space):\")\n",
        "  for _ in range(row):\n",
        "    row = list(map(int,input().split()))\n",
        "    if(len(row) != col):\n",
        "      return input_matrix()\n",
        "    A.append(row)\n",
        "  return A\n",
        "\n",
        "print(transpose_matrix(input_matrix()))"
      ],
      "metadata": {
        "id": "jFG2Bd8nqG0g"
      },
      "execution_count": null,
      "outputs": []
    },
    {
      "cell_type": "code",
      "source": [],
      "metadata": {
        "id": "gmvxZtuAqRFn"
      },
      "execution_count": null,
      "outputs": []
    }
  ]
}