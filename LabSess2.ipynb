{
  "nbformat": 4,
  "nbformat_minor": 0,
  "metadata": {
    "colab": {
      "provenance": [],
      "authorship_tag": "ABX9TyM02XGKh10ZZcKoQ/AY4rEu",
      "include_colab_link": true
    },
    "kernelspec": {
      "name": "python3",
      "display_name": "Python 3"
    },
    "language_info": {
      "name": "python"
    }
  },
  "cells": [
    {
      "cell_type": "markdown",
      "metadata": {
        "id": "view-in-github",
        "colab_type": "text"
      },
      "source": [
        "<a href=\"https://colab.research.google.com/github/iaryanraj212/AIML/blob/main/LabSess2.ipynb\" target=\"_parent\"><img src=\"https://colab.research.google.com/assets/colab-badge.svg\" alt=\"Open In Colab\"/></a>"
      ]
    },
    {
      "cell_type": "code",
      "execution_count": 1,
      "metadata": {
        "id": "GoWKWuVcTqXI"
      },
      "outputs": [],
      "source": [
        "import numpy as np\n",
        "import pandas as pd\n",
        "import statistics as st"
      ]
    },
    {
      "cell_type": "code",
      "source": [
        "def read(name_of_file, sheet_name,use_cols_parameter):\n",
        "  return pd.read_excel(name_of_file,index_col=0, usecols=use_cols_parameter,sheet_name=sheet_name)"
      ],
      "metadata": {
        "id": "EU-OSlgRg4jZ"
      },
      "execution_count": 2,
      "outputs": []
    },
    {
      "cell_type": "code",
      "source": [
        "purchase_data = read(\"/content/Lab Session Data.xlsx\",\"Purchase data\",[0,1,2,3,4])\n",
        "col = purchase_data.columns\n",
        "# print(col)\n",
        "\n",
        "table1 = purchase_data.to_numpy();  #convert the dataframe to array\n",
        "# print(table1)\n",
        "# print(type(table1))\n",
        "\n",
        "A = purchase_data[[col[0],col[1],col[2]]].to_numpy\n",
        "# print(A)\n",
        "C = purchase_data[[col[3]]].to_numpy\n",
        "\n",
        "print(purchase_data)\n",
        "print(f\"Dimension of data: {table1.shape}\")"
      ],
      "metadata": {
        "colab": {
          "base_uri": "https://localhost:8080/"
        },
        "id": "hvHG6E3Ig903",
        "outputId": "9b375567-09c8-45c8-86e3-7ee9fd8bc525"
      },
      "execution_count": 3,
      "outputs": [
        {
          "output_type": "stream",
          "name": "stdout",
          "text": [
            "          Candies (#)  Mangoes (Kg)  Milk Packets (#)  Payment (Rs)\n",
            "Customer                                                           \n",
            "C_1                20             6                 2           386\n",
            "C_2                16             3                 6           289\n",
            "C_3                27             6                 2           393\n",
            "C_4                19             1                 2           110\n",
            "C_5                24             4                 2           280\n",
            "C_6                22             1                 5           167\n",
            "C_7                15             4                 2           271\n",
            "C_8                18             4                 2           274\n",
            "C_9                21             1                 4           148\n",
            "C_10               16             2                 4           198\n",
            "Dimension of data: (10, 4)\n"
          ]
        }
      ]
    },
    {
      "cell_type": "code",
      "source": [],
      "metadata": {
        "id": "5CDXnslMioYt"
      },
      "execution_count": null,
      "outputs": []
    }
  ]
}